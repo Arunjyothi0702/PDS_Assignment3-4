{
 "cells": [
  {
   "cell_type": "code",
   "execution_count": 39,
   "id": "c8f5bf59",
   "metadata": {},
   "outputs": [
    {
     "name": "stdout",
     "output_type": "stream",
     "text": [
      "Requirement already satisfied: requests in c:\\users\\gudur\\anaconda3\\lib\\site-packages (2.31.0)\n",
      "Requirement already satisfied: charset-normalizer<4,>=2 in c:\\users\\gudur\\anaconda3\\lib\\site-packages (from requests) (2.0.4)\n",
      "Requirement already satisfied: idna<4,>=2.5 in c:\\users\\gudur\\anaconda3\\lib\\site-packages (from requests) (3.4)\n",
      "Requirement already satisfied: urllib3<3,>=1.21.1 in c:\\users\\gudur\\anaconda3\\lib\\site-packages (from requests) (1.26.16)\n",
      "Requirement already satisfied: certifi>=2017.4.17 in c:\\users\\gudur\\anaconda3\\lib\\site-packages (from requests) (2023.7.22)\n",
      "Note: you may need to restart the kernel to use updated packages.\n"
     ]
    }
   ],
   "source": [
    "pip install requests\n"
   ]
  },
  {
   "cell_type": "code",
   "execution_count": 44,
   "id": "7af0f7f3",
   "metadata": {},
   "outputs": [
    {
     "name": "stdout",
     "output_type": "stream",
     "text": [
      "Random User Data Dashboard\n",
      "==========================\n",
      "\n",
      "User 1:\n",
      "UserName: Mrs Lidiya Krishtopovich\n",
      "UserGender: female\n",
      "LocationAddress: Vishgorod, Ukraine\n",
      "EmailAddress: lidiya.krishtopovich@example.com\n",
      "Contact: (096) D53-2322\n",
      "\n",
      "User 2:\n",
      "UserName: Miss Namitha Almeida\n",
      "UserGender: female\n",
      "LocationAddress: New Delhi, India\n",
      "EmailAddress: namitha.almeida@example.com\n",
      "Contact: 7347389019\n",
      "\n",
      "User 3:\n",
      "UserName: Mr Salman Nygren\n",
      "UserGender: male\n",
      "LocationAddress: Talvik, Norway\n",
      "EmailAddress: salman.nygren@example.com\n",
      "Contact: 22897854\n",
      "\n",
      "User 4:\n",
      "UserName: Mrs Aurora Williams\n",
      "UserGender: female\n",
      "LocationAddress: Gisborne, New Zealand\n",
      "EmailAddress: aurora.williams@example.com\n",
      "Contact: (750)-263-9315\n",
      "\n",
      "User 5:\n",
      "UserName: Mrs ملینا مرادی\n",
      "UserGender: female\n",
      "LocationAddress: کرمانشاه, Iran\n",
      "EmailAddress: mlyn.mrdy@example.com\n",
      "Contact: 029-38136131\n"
     ]
    }
   ],
   "source": [
    "import requests\n",
    "import json\n",
    "\n",
    "# Fetching the  data from the Random User Generator API\n",
    "response = requests.get('https://randomuser.me/api/?results=5')\n",
    "data = response.json()\n",
    "\n",
    "# Parsing JSON data\n",
    "users = data['results']\n",
    "\n",
    "# Display of dashboard\n",
    "print(\"Random User Data Dashboard\")\n",
    "print(\"==========================\")\n",
    "for idx, user in enumerate(users):\n",
    "    print(f\"\\nUser {idx + 1}:\")\n",
    "    print(f\"UserName: {user['name']['title']} {user['name']['first']} {user['name']['last']}\")\n",
    "    print(f\"UserGender: {user['gender']}\")\n",
    "    print(f\"LocationAddress: {user['location']['city']}, {user['location']['country']}\")\n",
    "    print(f\"EmailAddress: {user['email']}\")\n",
    "    print(f\"Contact: {user['phone']}\")\n"
   ]
  },
  {
   "cell_type": "code",
   "execution_count": 41,
   "id": "b1388cd2",
   "metadata": {},
   "outputs": [
    {
     "name": "stdout",
     "output_type": "stream",
     "text": [
      "Requirement already satisfied: dash in c:\\users\\gudur\\anaconda3\\lib\\site-packages (2.16.1)\n",
      "Requirement already satisfied: Flask<3.1,>=1.0.4 in c:\\users\\gudur\\anaconda3\\lib\\site-packages (from dash) (2.2.2)\n",
      "Requirement already satisfied: Werkzeug<3.1 in c:\\users\\gudur\\anaconda3\\lib\\site-packages (from dash) (2.2.3)\n",
      "Requirement already satisfied: plotly>=5.0.0 in c:\\users\\gudur\\anaconda3\\lib\\site-packages (from dash) (5.9.0)\n",
      "Requirement already satisfied: dash-html-components==2.0.0 in c:\\users\\gudur\\anaconda3\\lib\\site-packages (from dash) (2.0.0)\n",
      "Requirement already satisfied: dash-core-components==2.0.0 in c:\\users\\gudur\\anaconda3\\lib\\site-packages (from dash) (2.0.0)\n",
      "Requirement already satisfied: dash-table==5.0.0 in c:\\users\\gudur\\anaconda3\\lib\\site-packages (from dash) (5.0.0)\n",
      "Requirement already satisfied: importlib-metadata in c:\\users\\gudur\\anaconda3\\lib\\site-packages (from dash) (6.0.0)\n",
      "Requirement already satisfied: typing-extensions>=4.1.1 in c:\\users\\gudur\\anaconda3\\lib\\site-packages (from dash) (4.7.1)\n",
      "Requirement already satisfied: requests in c:\\users\\gudur\\anaconda3\\lib\\site-packages (from dash) (2.31.0)\n",
      "Requirement already satisfied: retrying in c:\\users\\gudur\\anaconda3\\lib\\site-packages (from dash) (1.3.4)\n",
      "Requirement already satisfied: nest-asyncio in c:\\users\\gudur\\anaconda3\\lib\\site-packages (from dash) (1.5.6)\n",
      "Requirement already satisfied: setuptools in c:\\users\\gudur\\anaconda3\\lib\\site-packages (from dash) (68.0.0)\n",
      "Requirement already satisfied: Jinja2>=3.0 in c:\\users\\gudur\\anaconda3\\lib\\site-packages (from Flask<3.1,>=1.0.4->dash) (3.1.2)\n",
      "Requirement already satisfied: itsdangerous>=2.0 in c:\\users\\gudur\\anaconda3\\lib\\site-packages (from Flask<3.1,>=1.0.4->dash) (2.0.1)\n",
      "Requirement already satisfied: click>=8.0 in c:\\users\\gudur\\anaconda3\\lib\\site-packages (from Flask<3.1,>=1.0.4->dash) (8.0.4)\n",
      "Requirement already satisfied: tenacity>=6.2.0 in c:\\users\\gudur\\anaconda3\\lib\\site-packages (from plotly>=5.0.0->dash) (8.2.2)\n",
      "Requirement already satisfied: MarkupSafe>=2.1.1 in c:\\users\\gudur\\anaconda3\\lib\\site-packages (from Werkzeug<3.1->dash) (2.1.1)\n",
      "Requirement already satisfied: zipp>=0.5 in c:\\users\\gudur\\anaconda3\\lib\\site-packages (from importlib-metadata->dash) (3.11.0)\n",
      "Requirement already satisfied: charset-normalizer<4,>=2 in c:\\users\\gudur\\anaconda3\\lib\\site-packages (from requests->dash) (2.0.4)\n",
      "Requirement already satisfied: idna<4,>=2.5 in c:\\users\\gudur\\anaconda3\\lib\\site-packages (from requests->dash) (3.4)\n",
      "Requirement already satisfied: urllib3<3,>=1.21.1 in c:\\users\\gudur\\anaconda3\\lib\\site-packages (from requests->dash) (1.26.16)\n",
      "Requirement already satisfied: certifi>=2017.4.17 in c:\\users\\gudur\\anaconda3\\lib\\site-packages (from requests->dash) (2023.7.22)\n",
      "Requirement already satisfied: six>=1.7.0 in c:\\users\\gudur\\anaconda3\\lib\\site-packages (from retrying->dash) (1.16.0)\n",
      "Requirement already satisfied: colorama in c:\\users\\gudur\\anaconda3\\lib\\site-packages (from click>=8.0->Flask<3.1,>=1.0.4->dash) (0.4.6)\n",
      "Note: you may need to restart the kernel to use updated packages.\n"
     ]
    }
   ],
   "source": [
    "pip install dash"
   ]
  },
  {
   "cell_type": "code",
   "execution_count": 45,
   "id": "d39ad725",
   "metadata": {},
   "outputs": [
    {
     "data": {
      "text/html": [
       "\n",
       "        <iframe\n",
       "            width=\"100%\"\n",
       "            height=\"650\"\n",
       "            src=\"http://127.0.0.1:8051/\"\n",
       "            frameborder=\"0\"\n",
       "            allowfullscreen\n",
       "            \n",
       "        ></iframe>\n",
       "        "
      ],
      "text/plain": [
       "<IPython.lib.display.IFrame at 0x16cc3718ed0>"
      ]
     },
     "metadata": {},
     "output_type": "display_data"
    }
   ],
   "source": [
    "import dash\n",
    "from dash import html, dcc, callback_context\n",
    "from dash.dependencies import Input, Output\n",
    "import requests\n",
    "\n",
    "app = dash.Dash(__name__)\n",
    "\n",
    "# Fetching data from the Random User Generator API\n",
    "def fetch_user_data():\n",
    "    response = requests.get('https://randomuser.me/api/?results=5')\n",
    "    data = response.json()\n",
    "    return data['results']\n",
    "\n",
    "# Layout of the dashboard\n",
    "app.layout = html.Div([\n",
    "    html.H1(\"Random User Data Dashboard\"),\n",
    "    html.Div(id='user-data'),\n",
    "    html.Button('Fetch Data', id='fetch-button', n_clicks=0),\n",
    "])\n",
    "\n",
    "# Callback to fetch  the data and update the dashboard\n",
    "@app.callback(\n",
    "    Output('user-data', 'children'),\n",
    "    [Input('fetch-button', 'n_clicks')]\n",
    ")\n",
    "def update_user_data(n_clicks):\n",
    "    users = fetch_user_data()\n",
    "    user_data = []\n",
    "    for user in users:\n",
    "        user_info = html.Div([\n",
    "            html.P(f\"UserName: {user['name']['title']} {user['name']['first']} {user['name']['last']}\"),\n",
    "            html.P(f\"UserGender: {user['gender']}\"),\n",
    "            html.P(f\"LocationAddress: {user['location']['city']}, {user['location']['country']}\"),\n",
    "            html.P(f\"EmailAddress: {user['email']}\"),\n",
    "            html.P(f\"Contact: {user['phone']}\"),\n",
    "            html.Hr()\n",
    "        ])\n",
    "        user_data.append(user_info)\n",
    "    return user_data\n",
    "\n",
    "if __name__ == '__main__':\n",
    "    app.run_server(debug=True, port=8051)\n",
    "\n",
    "\n"
   ]
  },
  {
   "cell_type": "code",
   "execution_count": null,
   "id": "37a2be8f",
   "metadata": {},
   "outputs": [],
   "source": []
  }
 ],
 "metadata": {
  "kernelspec": {
   "display_name": "Python 3 (ipykernel)",
   "language": "python",
   "name": "python3"
  },
  "language_info": {
   "codemirror_mode": {
    "name": "ipython",
    "version": 3
   },
   "file_extension": ".py",
   "mimetype": "text/x-python",
   "name": "python",
   "nbconvert_exporter": "python",
   "pygments_lexer": "ipython3",
   "version": "3.11.5"
  }
 },
 "nbformat": 4,
 "nbformat_minor": 5
}
