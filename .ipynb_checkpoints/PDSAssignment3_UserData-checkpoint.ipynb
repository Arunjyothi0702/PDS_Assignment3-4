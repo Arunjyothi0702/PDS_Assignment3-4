{
 "cells": [
  {
   "cell_type": "code",
   "execution_count": 33,
   "id": "c8f5bf59",
   "metadata": {},
   "outputs": [
    {
     "name": "stdout",
     "output_type": "stream",
     "text": [
      "Requirement already satisfied: requests in c:\\users\\gudur\\anaconda3\\lib\\site-packages (2.31.0)Note: you may need to restart the kernel to use updated packages.\n",
      "\n",
      "Requirement already satisfied: charset-normalizer<4,>=2 in c:\\users\\gudur\\anaconda3\\lib\\site-packages (from requests) (2.0.4)\n",
      "Requirement already satisfied: idna<4,>=2.5 in c:\\users\\gudur\\anaconda3\\lib\\site-packages (from requests) (3.4)\n",
      "Requirement already satisfied: urllib3<3,>=1.21.1 in c:\\users\\gudur\\anaconda3\\lib\\site-packages (from requests) (1.26.16)\n",
      "Requirement already satisfied: certifi>=2017.4.17 in c:\\users\\gudur\\anaconda3\\lib\\site-packages (from requests) (2023.7.22)\n"
     ]
    }
   ],
   "source": [
    "pip install requests"
   ]
  },
  {
   "cell_type": "code",
   "execution_count": 34,
   "id": "7af0f7f3",
   "metadata": {},
   "outputs": [
    {
     "ename": "KeyError",
     "evalue": "'Results'",
     "output_type": "error",
     "traceback": [
      "\u001b[1;31m---------------------------------------------------------------------------\u001b[0m",
      "\u001b[1;31mKeyError\u001b[0m                                  Traceback (most recent call last)",
      "Cell \u001b[1;32mIn[34], line 9\u001b[0m\n\u001b[0;32m      6\u001b[0m data \u001b[38;5;241m=\u001b[39m responseData\u001b[38;5;241m.\u001b[39mjson()\n\u001b[0;32m      8\u001b[0m \u001b[38;5;66;03m# Parsing the JSON data\u001b[39;00m\n\u001b[1;32m----> 9\u001b[0m usersData \u001b[38;5;241m=\u001b[39m data[\u001b[38;5;124m'\u001b[39m\u001b[38;5;124mResults\u001b[39m\u001b[38;5;124m'\u001b[39m]\n\u001b[0;32m     11\u001b[0m \u001b[38;5;66;03m# Displaying of dashboard\u001b[39;00m\n\u001b[0;32m     12\u001b[0m \u001b[38;5;28mprint\u001b[39m(\u001b[38;5;124m\"\u001b[39m\u001b[38;5;124mRandom UserData Dashboard\u001b[39m\u001b[38;5;124m\"\u001b[39m)\n",
      "\u001b[1;31mKeyError\u001b[0m: 'Results'"
     ]
    }
   ],
   "source": [
    "import requests\n",
    "import json\n",
    "\n",
    "# Fetching the data from the Random User Generator API\n",
    "responseData = requests.get('https://randomuser.me/api/?results=5')\n",
    "data = responseData.json()\n",
    "\n",
    "# Parsing the JSON data\n",
    "usersData = data['Results']\n",
    "\n",
    "# Displaying of dashboard\n",
    "print(\"Random UserData Dashboard\")\n",
    "print(\"==========================\")\n",
    "for idx, user in enumerate(usersData):\n",
    "    print(f\"\\nUser {idx + 1}:\")\n",
    "    print(f\"UserName: {user['name']['title']} {user['name']['first']} {user['name']['last']}\")\n",
    "    print(f\"UserGender: {user['gender']}\")\n",
    "    print(f\"Location_Address: {user['location']['city']}, {user['location']['country']}\")\n",
    "    print(f\"EmailAddress: {user['email']}\")\n",
    "    print(f\"Contact: {user['phone']}\")\n"
   ]
  },
  {
   "cell_type": "code",
   "execution_count": null,
   "id": "b1388cd2",
   "metadata": {},
   "outputs": [],
   "source": [
    "pip install dash"
   ]
  },
  {
   "cell_type": "code",
   "execution_count": 35,
   "id": "d39ad725",
   "metadata": {},
   "outputs": [
    {
     "data": {
      "text/html": [
       "\n",
       "        <iframe\n",
       "            width=\"100%\"\n",
       "            height=\"650\"\n",
       "            src=\"http://127.0.0.1:8051/\"\n",
       "            frameborder=\"0\"\n",
       "            allowfullscreen\n",
       "            \n",
       "        ></iframe>\n",
       "        "
      ],
      "text/plain": [
       "<IPython.lib.display.IFrame at 0x16cc3985950>"
      ]
     },
     "metadata": {},
     "output_type": "display_data"
    },
    {
     "name": "stdout",
     "output_type": "stream",
     "text": [
      "---------------------------------------------------------------------------\n",
      "KeyError                                  Traceback (most recent call last)\n",
      "Cell In[35], line 27, in update_user_data(n_clicks=0)\n",
      "     22 @app.callback(\n",
      "     23     Output('user-data', 'children'),\n",
      "     24     [Input('fetch-button', 'n_clicks')]\n",
      "     25 )\n",
      "     26 def update_user_data(n_clicks):\n",
      "---> 27     usersData = fetch_user_data()\n",
      "     28     user_data = []\n",
      "     29     for user in usersData:\n",
      "\n",
      "Cell In[35], line 12, in fetch_user_data()\n",
      "     10 responseData = requests.get('https://randomuser.me/api/?results=5')\n",
      "     11 data = responseData.json()\n",
      "---> 12 return data['Results']\n",
      "        data = {'results': [{'gender': 'male', 'name': {'title': 'Monsieur', 'first': 'Meinrad', 'last': 'Mathieu'}, 'location': {'street': {'number': 2076, 'name': 'Cours Charlemagne'}, 'city': 'Reverolle', 'state': 'Zürich', 'country': 'Switzerland', 'postcode': 4658, 'coordinates': {'latitude': '-58.9624', 'longitude': '-20.3367'}, 'timezone': {'offset': '+9:00', 'description': 'Tokyo, Seoul, Osaka, Sapporo, Yakutsk'}}, 'email': 'meinrad.mathieu@example.com', 'login': {'uuid': 'aad32bf7-7e31-4974-8f3f-9f466988e107', 'username': 'brownzebra634', 'password': 'wapapapa', 'salt': 'E4ofLCqG', 'md5': 'd40fdf5e915be8e1841dd75edca4fe29', 'sha1': 'dc0dce164927ea604a14b621feb762e02a59c49a', 'sha256': '3a873f6e5048af6e8668769f41bb24223affe4f8b68b9867f8100f8bf9e00b78'}, 'dob': {'date': '2000-08-12T09:28:19.063Z', 'age': 23}, 'registered': {'date': '2007-12-06T14:22:42.942Z', 'age': 16}, 'phone': '077 559 00 43', 'cell': '075 161 18 11', 'id': {'name': 'AVS', 'value': '756.9477.9979.27'}, 'picture': {'large': 'https://randomuser.me/api/portraits/men/40.jpg', 'medium': 'https://randomuser.me/api/portraits/med/men/40.jpg', 'thumbnail': 'https://randomuser.me/api/portraits/thumb/men/40.jpg'}, 'nat': 'CH'}, {'gender': 'female', 'name': {'title': 'Miss', 'first': 'Simona', 'last': 'Lazarchuk'}, 'location': {'street': {'number': 1519, 'name': 'Dnistrovskiy provulok'}, 'city': 'Vasilkiv', 'state': 'Kiyivska', 'country': 'Ukraine', 'postcode': 36283, 'coordinates': {'latitude': '-26.3305', 'longitude': '-149.2995'}, 'timezone': {'offset': '-11:00', 'description': 'Midway Island, Samoa'}}, 'email': 'simona.lazarchuk@example.com', 'login': {'uuid': '1a22c22f-6ccf-4ecf-8cee-d73024264e2b', 'username': 'tinyleopard449', 'password': '8inches', 'salt': '4lTRpdYQ', 'md5': '4c5862244a20bc86347f40d3f84bfc80', 'sha1': '34a2a8dda1aba5f15a4434e9d5ea7f489774e0e6', 'sha256': '00d4bbe5f356a359cd461cef93e802d0181bc714e3a2c13ad32337d9bbf0bd1a'}, 'dob': {'date': '1988-08-17T13:14:48.322Z', 'age': 35}, 'registered': {'date': '2012-04-04T10:49:44.259Z', 'age': 12}, 'phone': '(099) S61-7766', 'cell': '(068) T83-0376', 'id': {'name': '', 'value': None}, 'picture': {'large': 'https://randomuser.me/api/portraits/women/2.jpg', 'medium': 'https://randomuser.me/api/portraits/med/women/2.jpg', 'thumbnail': 'https://randomuser.me/api/portraits/thumb/women/2.jpg'}, 'nat': 'UA'}, {'gender': 'female', 'name': {'title': 'Miss', 'first': 'Sara', 'last': 'Wiita'}, 'location': {'street': {'number': 9827, 'name': 'Tahmelantie'}, 'city': 'Lestijärvi', 'state': 'Southern Ostrobothnia', 'country': 'Finland', 'postcode': 88744, 'coordinates': {'latitude': '34.8398', 'longitude': '-90.9014'}, 'timezone': {'offset': '-6:00', 'description': 'Central Time (US & Canada), Mexico City'}}, 'email': 'sara.wiita@example.com', 'login': {'uuid': '0da0e86c-70db-492c-baa6-bd605ba5edf4', 'username': 'whitemeercat211', 'password': 'sail', 'salt': 'SLTr8CWx', 'md5': '7269e58862df2e5f9b674bb6406248f2', 'sha1': '8012c0a061f10b6baa44d4eaeb0b1ea84d63efc8', 'sha256': '69e1f7644586fba7fdd6337dcb6a9f7db14d6c4ea91ab95c29631cccfd991d4c'}, 'dob': {'date': '2001-03-27T15:22:05.600Z', 'age': 23}, 'registered': {'date': '2016-05-28T16:58:14.488Z', 'age': 7}, 'phone': '04-373-655', 'cell': '044-480-68-38', 'id': {'name': 'HETU', 'value': 'NaNNA254undefined'}, 'picture': {'large': 'https://randomuser.me/api/portraits/women/17.jpg', 'medium': 'https://randomuser.me/api/portraits/med/women/17.jpg', 'thumbnail': 'https://randomuser.me/api/portraits/thumb/women/17.jpg'}, 'nat': 'FI'}, {'gender': 'male', 'name': {'title': 'Mr', 'first': 'Jayden', 'last': 'Haukeland'}, 'location': {'street': {'number': 3584, 'name': 'Kringlebekkveien'}, 'city': 'Hovin', 'state': 'Hordaland', 'country': 'Norway', 'postcode': '6659', 'coordinates': {'latitude': '-52.6147', 'longitude': '173.7846'}, 'timezone': {'offset': '-11:00', 'description': 'Midway Island, Samoa'}}, 'email': 'jayden.haukeland@example.com', 'login': {'uuid': 'e7bdb9b4-f7c5-4ce9-9fb2-55c4b9877e0b', 'username': 'whiteduck923', 'password': 'surfer1', 'salt': 'T7Lv1mnB', 'md5': '110e08219f9132e75ef3a5e261bbebbb', 'sha1': '36c8a96f97cbdac220d05d45bbe7b400ddb155ef', 'sha256': '8739eacda4c41b084b5b8ddd0b6608967630b0731fa10f69a0cebb5eb94c984c'}, 'dob': {'date': '1968-06-05T14:02:01.943Z', 'age': 55}, 'registered': {'date': '2011-10-17T06:07:02.192Z', 'age': 12}, 'phone': '80366978', 'cell': '43503383', 'id': {'name': 'FN', 'value': '05066819185'}, 'picture': {'large': 'https://randomuser.me/api/portraits/men/48.jpg', 'medium': 'https://randomuser.me/api/portraits/med/men/48.jpg', 'thumbnail': 'https://randomuser.me/api/portraits/thumb/men/48.jpg'}, 'nat': 'NO'}, {'gender': 'male', 'name': {'title': 'Mr', 'first': 'Finn', 'last': 'Li'}, 'location': {'street': {'number': 7051, 'name': 'North Road'}, 'city': 'Porirua', 'state': 'Auckland', 'country': 'New Zealand', 'postcode': 21746, 'coordinates': {'latitude': '55.7232', 'longitude': '-43.4717'}, 'timezone': {'offset': '-2:00', 'description': 'Mid-Atlantic'}}, 'email': 'finn.li@example.com', 'login': {'uuid': 'e399b064-0575-457b-b95d-337df3e677d0', 'username': 'sadfish806', 'password': 'mannn', 'salt': 'HgiVBkcs', 'md5': '01e033e50e272f19f1a8d7b3f4d7bc9d', 'sha1': '39e1e2d4bfba092f55c5d478734adaaba62d341b', 'sha256': '73755cbfa7ccdfde8e46665f49bcdade509b012e88cc606bf3524a0593ecc710'}, 'dob': {'date': '1978-03-15T09:28:19.433Z', 'age': 46}, 'registered': {'date': '2011-12-23T16:40:57.182Z', 'age': 12}, 'phone': '(193)-330-7941', 'cell': '(203)-550-2379', 'id': {'name': '', 'value': None}, 'picture': {'large': 'https://randomuser.me/api/portraits/men/46.jpg', 'medium': 'https://randomuser.me/api/portraits/med/men/46.jpg', 'thumbnail': 'https://randomuser.me/api/portraits/thumb/men/46.jpg'}, 'nat': 'NZ'}], 'info': {'seed': '6543a4251636df90', 'results': 5, 'page': 1, 'version': '1.4'}}\n",
      "\n",
      "KeyError: 'Results'\n",
      "\n"
     ]
    }
   ],
   "source": [
    "import dash\n",
    "from dash import html, dcc, callback_context\n",
    "from dash.dependencies import Input, Output\n",
    "import requests\n",
    "\n",
    "app = dash.Dash(__name__)\n",
    "\n",
    "# Fetching the  data from the Random User Generator API\n",
    "def fetch_user_data():\n",
    "    responseData = requests.get('https://randomuser.me/api/?results=5')\n",
    "    data = responseData.json()\n",
    "    return data['Results']\n",
    "\n",
    "# Dashboard Layout\n",
    "app.layout = html.Div([\n",
    "    html.H1(\"Random UserData Dashboard\"),\n",
    "    html.Div(id='user-data'),\n",
    "    html.Button('Data Fetch', id='fetch-button', n_clicks=0),\n",
    "])\n",
    "\n",
    "# Callback to fetch data and  to update the dashboard\n",
    "@app.callback(\n",
    "    Output('user-data', 'children'),\n",
    "    [Input('fetch-button', 'n_clicks')]\n",
    ")\n",
    "def update_user_data(n_clicks):\n",
    "    usersData = fetch_user_data()\n",
    "    user_data = []\n",
    "    for user in usersData:\n",
    "        user_info = html.Div([\n",
    "            html.P(f\"UserName: {user['name']['title']} {user['name']['first']} {user['name']['last']}\"),\n",
    "            html.P(f\"UserGender: {user['gender']}\"),\n",
    "            html.P(f\"Location_Address: {user['location']['city']}, {user['location']['country']}\"),\n",
    "            html.P(f\"EmailAddress: {user['email']}\"),\n",
    "            html.P(f\"Contact: {user['phone']}\"),\n",
    "            html.Hr()\n",
    "        ])\n",
    "        user_data.append(user_info)\n",
    "    return user_data\n",
    "\n",
    "if __name__ == '__main__':\n",
    "    app.run_server(debug=True, port=8051)\n"
   ]
  },
  {
   "cell_type": "code",
   "execution_count": null,
   "id": "37a2be8f",
   "metadata": {},
   "outputs": [],
   "source": []
  }
 ],
 "metadata": {
  "kernelspec": {
   "display_name": "Python 3 (ipykernel)",
   "language": "python",
   "name": "python3"
  },
  "language_info": {
   "codemirror_mode": {
    "name": "ipython",
    "version": 3
   },
   "file_extension": ".py",
   "mimetype": "text/x-python",
   "name": "python",
   "nbconvert_exporter": "python",
   "pygments_lexer": "ipython3",
   "version": "3.11.5"
  }
 },
 "nbformat": 4,
 "nbformat_minor": 5
}
